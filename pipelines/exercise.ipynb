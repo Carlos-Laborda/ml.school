{
 "cells": [
  {
   "cell_type": "markdown",
   "metadata": {},
   "source": [
    "### Create a Jupyter Notebook, load the dataset, and write some code to determine whether the sex column has any predictive power for the species column. In other words, do we have to include the sex column in the data for better accuracy?"
   ]
  },
  {
   "cell_type": "code",
   "execution_count": 2,
   "metadata": {},
   "outputs": [
    {
     "name": "stdout",
     "output_type": "stream",
     "text": [
      "    species     island  culmen_length_mm  culmen_depth_mm  flipper_length_mm  \\\n",
      "0    Adelie  Torgersen              39.1             18.7              181.0   \n",
      "1    Adelie  Torgersen              39.5             17.4              186.0   \n",
      "2    Adelie  Torgersen              40.3             18.0              195.0   \n",
      "3    Adelie  Torgersen               NaN              NaN                NaN   \n",
      "4    Adelie  Torgersen              36.7             19.3              193.0   \n",
      "..      ...        ...               ...              ...                ...   \n",
      "339  Gentoo     Biscoe               NaN              NaN                NaN   \n",
      "340  Gentoo     Biscoe              46.8             14.3              215.0   \n",
      "341  Gentoo     Biscoe              50.4             15.7              222.0   \n",
      "342  Gentoo     Biscoe              45.2             14.8              212.0   \n",
      "343  Gentoo     Biscoe              49.9             16.1              213.0   \n",
      "\n",
      "     body_mass_g     sex  \n",
      "0         3750.0    MALE  \n",
      "1         3800.0  FEMALE  \n",
      "2         3250.0  FEMALE  \n",
      "3            NaN     NaN  \n",
      "4         3450.0  FEMALE  \n",
      "..           ...     ...  \n",
      "339          NaN     NaN  \n",
      "340       4850.0  FEMALE  \n",
      "341       5750.0    MALE  \n",
      "342       5200.0  FEMALE  \n",
      "343       5400.0    MALE  \n",
      "\n",
      "[344 rows x 7 columns]\n"
     ]
    }
   ],
   "source": [
    "import pandas as pd\n",
    "\n",
    "df = pd.read_csv('../data/penguins.csv')\n",
    "print(df)"
   ]
  },
  {
   "cell_type": "code",
   "execution_count": 3,
   "metadata": {},
   "outputs": [
    {
     "name": "stdout",
     "output_type": "stream",
     "text": [
      "Accuracy: 0.4807692307692308\n",
      "The sex column does not have predictive power for the species column.\n"
     ]
    }
   ],
   "source": [
    "from sklearn.model_selection import train_test_split\n",
    "from sklearn.linear_model import LogisticRegression\n",
    "from sklearn.metrics import accuracy_score\n",
    "\n",
    "# Encode categorical variables if necessary\n",
    "df['sex'] = df['sex'].astype('category').cat.codes\n",
    "df['species'] = df['species'].astype('category').cat.codes\n",
    "\n",
    "# Split the data into training and testing sets\n",
    "X = df[['sex']]\n",
    "y = df['species']\n",
    "X_train, X_test, y_train, y_test = train_test_split(X, y, test_size=0.3, random_state=42)\n",
    "\n",
    "# Train the logistic regression model\n",
    "model = LogisticRegression()\n",
    "model.fit(X_train, y_train)\n",
    "\n",
    "# Make predictions\n",
    "y_pred = model.predict(X_test)\n",
    "\n",
    "# Evaluate the model\n",
    "accuracy = accuracy_score(y_test, y_pred)\n",
    "print(f\"Accuracy: {accuracy}\")\n",
    "\n",
    "# Interpret the accuracy\n",
    "if accuracy > 0.5:\n",
    "    print(\"The sex column has some predictive power for the species column.\")\n",
    "else:\n",
    "    print(\"The sex column does not have predictive power for the species column.\")"
   ]
  }
 ],
 "metadata": {
  "kernelspec": {
   "display_name": ".venv",
   "language": "python",
   "name": "python3"
  },
  "language_info": {
   "codemirror_mode": {
    "name": "ipython",
    "version": 3
   },
   "file_extension": ".py",
   "mimetype": "text/x-python",
   "name": "python",
   "nbconvert_exporter": "python",
   "pygments_lexer": "ipython3",
   "version": "3.12.6"
  }
 },
 "nbformat": 4,
 "nbformat_minor": 2
}
